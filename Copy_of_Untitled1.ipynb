{
  "nbformat": 4,
  "nbformat_minor": 0,
  "metadata": {
    "colab": {
      "provenance": [],
      "authorship_tag": "ABX9TyOP4ErqysT8VzvHW6MnVIBs",
      "include_colab_link": true
    },
    "kernelspec": {
      "name": "python3",
      "display_name": "Python 3"
    },
    "language_info": {
      "name": "python"
    }
  },
  "cells": [
    {
      "cell_type": "markdown",
      "metadata": {
        "id": "view-in-github",
        "colab_type": "text"
      },
      "source": [
        "<a href=\"https://colab.research.google.com/github/2403a54081-arch/batch-18-DAV/blob/main/Copy_of_Untitled1.ipynb\" target=\"_parent\"><img src=\"https://colab.research.google.com/assets/colab-badge.svg\" alt=\"Open In Colab\"/></a>"
      ]
    },
    {
      "cell_type": "markdown",
      "source": [
        "#TASK DESCRIPTION 1"
      ],
      "metadata": {
        "id": "g_CoynfSujSE"
      }
    },
    {
      "cell_type": "code",
      "source": [
        "def buggy_factorial(n):\n",
        "    if n == 0:\n",
        "        print(\"Reached base case\")  # Fixed: added parentheses\n",
        "        return 1\n",
        "    else:\n",
        "        return n * buggy_factorial(n - 1)\n",
        "\n",
        "# Print the factorial of 5\n",
        "print(\"Factorial of 5 is: \",buggy_factorial(5))"
      ],
      "metadata": {
        "id": "1CKlI_cGukEy"
      },
      "execution_count": null,
      "outputs": []
    },
    {
      "cell_type": "markdown",
      "source": [
        "#TASK DESCRIPTION 2"
      ],
      "metadata": {
        "id": "yHXl0lXSuYrT"
      }
    },
    {
      "cell_type": "code",
      "source": [
        "# Buggy function with assignment (=) instead of comparison (==)\n",
        "def is_zero_buggy(n):\n",
        "    if n == 0:  # Bug: should use '=='\n",
        "        return True\n",
        "    else:\n",
        "        return False\n",
        "\n",
        "# AI-detected fix:\n",
        "def is_zero_fixed(n):\n",
        "    if n == 0:  # Fixed: use '=='\n",
        "        return True\n",
        "    else:\n",
        "        return False\n",
        "\n",
        "# Print statements to test the function\n",
        "print(\"Buggy function (will cause SyntaxError):\")\n",
        "# print(is_zero_buggy(0))  # Uncommenting this will cause a SyntaxError\n",
        "\n",
        "print(\"Fixed function output for 0:\", is_zero_fixed(0))\n",
        "print(\"Fixed function output for 5:\", is_zero_fixed(5))"
      ],
      "metadata": {
        "id": "1fV9SJ8Wu8KT"
      },
      "execution_count": null,
      "outputs": []
    },
    {
      "cell_type": "markdown",
      "source": [],
      "metadata": {
        "id": "z_buxsQOvMVD"
      }
    },
    {
      "cell_type": "markdown",
      "source": [
        "#TASK DESCRIPTION 3"
      ],
      "metadata": {
        "id": "reoIpDukvNwL"
      }
    },
    {
      "cell_type": "code",
      "source": [
        "# Buggy code: crashes when file does not exist\n",
        "try:\n",
        "    with open(\"non_existent_file.txt\", \"r\") as f:\n",
        "        content = f.read()\n",
        "    print(\"File content:\", content)\n",
        "except FileNotFoundError:\n",
        "    print(\"Error: The file does not exist.\")\n"
      ],
      "metadata": {
        "id": "pTBztjQRvToT"
      },
      "execution_count": null,
      "outputs": []
    },
    {
      "cell_type": "markdown",
      "source": [
        "#TASK DESCRIPTION 4"
      ],
      "metadata": {
        "id": "3h9o1FI5vbJL"
      }
    },
    {
      "cell_type": "code",
      "source": [
        "class MyClass:\n",
        "    def greet(self):\n",
        "        print(\"Hello from MyClass!\")\n",
        "\n",
        "obj = MyClass()\n",
        "\n",
        "# Buggy code: calling a non-existent method\n",
        "# obj.undefined_method()  # This will raise AttributeError\n",
        "\n",
        "# AI-detected fix: call the correct method\n",
        "obj.greet()  # Fixed: call an existing method\n",
        "\n",
        "print(\"Method call successful.\")"
      ],
      "metadata": {
        "id": "GDML-0KZvfKr"
      },
      "execution_count": null,
      "outputs": []
    },
    {
      "cell_type": "markdown",
      "source": [
        "#TASK DESCRIPTION 5"
      ],
      "metadata": {
        "id": "7GhGzH7XvkB7"
      }
    },
    {
      "cell_type": "code",
      "source": [
        "# Buggy code: adding string and integer causes TypeError\n",
        "# result = \"5\" + 2  # This will raise TypeError\n",
        "\n",
        "# AI-detected fix: convert string to integer before adding\n",
        "result = int(\"5\") + 2  # Fixed\n",
        "\n",
        "print(\"Result after fixing TypeError:\",result)"
      ],
      "metadata": {
        "id": "GNsv_HF7vneT"
      },
      "execution_count": null,
      "outputs": []
    },
    {
      "cell_type": "markdown",
      "source": [],
      "metadata": {
        "id": "sqP3EGMtu2Kq"
      }
    }
  ]
}