{
  "nbformat": 4,
  "nbformat_minor": 0,
  "metadata": {
    "colab": {
      "provenance": [],
      "authorship_tag": "ABX9TyNpar1BUKG4QVEJyggyERZk",
      "include_colab_link": true
    },
    "kernelspec": {
      "name": "python3",
      "display_name": "Python 3"
    },
    "language_info": {
      "name": "python"
    }
  },
  "cells": [
    {
      "cell_type": "markdown",
      "metadata": {
        "id": "view-in-github",
        "colab_type": "text"
      },
      "source": [
        "<a href=\"https://colab.research.google.com/github/2403a54081-arch/batch-18-DAV/blob/main/datatypes.ipynb\" target=\"_parent\"><img src=\"https://colab.research.google.com/assets/colab-badge.svg\" alt=\"Open In Colab\"/></a>"
      ]
    },
    {
      "cell_type": "markdown",
      "source": [
        "#creating a list"
      ],
      "metadata": {
        "id": "QkpBbmRtYt78"
      }
    },
    {
      "cell_type": "code",
      "execution_count": 1,
      "metadata": {
        "colab": {
          "base_uri": "https://localhost:8080/"
        },
        "id": "EV2W7LCbV5XW",
        "outputId": "2337719f-7c56-43a1-e2df-74d80cc7822f"
      },
      "outputs": [
        {
          "output_type": "stream",
          "name": "stdout",
          "text": [
            "List: [1, 2, 3, 'apple', 'banana']\n"
          ]
        }
      ],
      "source": [
        "my_list = [1, 2, 3, \"apple\", \"banana\"]\n",
        "print(\"List:\", my_list)"
      ]
    },
    {
      "cell_type": "markdown",
      "source": [
        "#creating a tuple"
      ],
      "metadata": {
        "id": "o04FV9SSZvAt"
      }
    },
    {
      "cell_type": "code",
      "source": [
        "my_tuple = (10, 20, \"cherry\", \"date\")\n",
        "print(\"Tuple:\", my_tuple)"
      ],
      "metadata": {
        "colab": {
          "base_uri": "https://localhost:8080/"
        },
        "id": "kRF9ZE82ZCM8",
        "outputId": "886b8fdc-7fbe-4509-b32d-1322a21bb8c9"
      },
      "execution_count": 2,
      "outputs": [
        {
          "output_type": "stream",
          "name": "stdout",
          "text": [
            "Tuple: (10, 20, 'cherry', 'date')\n"
          ]
        }
      ]
    },
    {
      "cell_type": "markdown",
      "source": [
        "#creating a dictionary"
      ],
      "metadata": {
        "id": "kCarYZ2FaoMl"
      }
    },
    {
      "cell_type": "code",
      "source": [
        "\n",
        "my_dictionary = {\n",
        "    \"name\": \"Alice\",\n",
        "    \"age\": 30,\n",
        "    \"city\": \"New York\"\n",
        "}\n",
        "print(\"Dictionary:\", my_dictionary)\n"
      ],
      "metadata": {
        "colab": {
          "base_uri": "https://localhost:8080/"
        },
        "id": "Ohx2oHIeZ389",
        "outputId": "217f96e6-f317-476c-da24-0458d9ada591"
      },
      "execution_count": 3,
      "outputs": [
        {
          "output_type": "stream",
          "name": "stdout",
          "text": [
            "Dictionary: {'name': 'Alice', 'age': 30, 'city': 'New York'}\n"
          ]
        }
      ]
    }
  ]
}